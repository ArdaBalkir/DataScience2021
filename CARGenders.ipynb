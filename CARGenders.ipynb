{
 "cells": [
  {
   "cell_type": "code",
   "execution_count": 2,
   "id": "50842e2a",
   "metadata": {},
   "outputs": [
    {
     "name": "stdout",
     "output_type": "stream",
     "text": [
      "     Manufacturer     Model       Price  Transmission       Power  \\\n",
      "0            Ford     Focus   30.619322      5.966102   94.033898   \n",
      "1            Ford    Fiesta   18.532143      5.714286   68.571429   \n",
      "2      Volkswagen      Golf   31.242154      6.164835   89.461538   \n",
      "3         Renault      Clio   22.100000      5.615385   75.576923   \n",
      "4             BMW      320i   47.848370      6.444444  126.111111   \n",
      "...           ...       ...         ...           ...         ...   \n",
      "6087   Land-Rover  Defender  108.747195      7.853659  207.609756   \n",
      "6088       Toyota      RAV4   43.548516      1.354839  137.774193   \n",
      "6089   Alfa-Romeo    Spider   55.200000      6.000000  163.500000   \n",
      "6090        Honda   Shuttle   30.081000      4.000000  110.000000   \n",
      "6091   Mitsubishi     Space   23.165158      3.947368   82.157895   \n",
      "\n",
      "        Engine CC    Fuel    Male  Female Unknown    Total  \n",
      "0     1497.169492  petrol  814172  422731  56,487  1293390  \n",
      "1     1166.142857  petrol  554879  631666  54,057  1240602  \n",
      "2     1537.406593  petrol  483216  310604  47,563   841383  \n",
      "3     1219.653846  petrol  241287  312556  28,004   581847  \n",
      "4     1995.777778  petrol  408016  115843  29,125   552984  \n",
      "...           ...     ...     ...     ...     ...      ...  \n",
      "6087  2304.975610  diesel   1,012     150      80    1,242  \n",
      "6088  2261.193548  petrol     670     482      66    1,218  \n",
      "6089  2696.500000  petrol     790     247      81    1,118  \n",
      "6090  2254.000000  petrol     639     416      49    1,104  \n",
      "6091  1817.315789  petrol     721     251      40    1,012  \n",
      "\n",
      "[6092 rows x 11 columns]\n"
     ]
    }
   ],
   "source": [
    "import matplotlib.pyplot as plt\n",
    "import pandas as pd\n",
    "import numpy as np\n",
    "\n",
    "df = pd.read_csv('C:/Users/ab20acw/Desktop/CarBuyers.csv')\n",
    "print(df)"
   ]
  },
  {
   "cell_type": "code",
   "execution_count": 3,
   "id": "68b99139",
   "metadata": {},
   "outputs": [
    {
     "data": {
      "text/html": [
       "<div>\n",
       "<style scoped>\n",
       "    .dataframe tbody tr th:only-of-type {\n",
       "        vertical-align: middle;\n",
       "    }\n",
       "\n",
       "    .dataframe tbody tr th {\n",
       "        vertical-align: top;\n",
       "    }\n",
       "\n",
       "    .dataframe thead th {\n",
       "        text-align: right;\n",
       "    }\n",
       "</style>\n",
       "<table border=\"1\" class=\"dataframe\">\n",
       "  <thead>\n",
       "    <tr style=\"text-align: right;\">\n",
       "      <th></th>\n",
       "      <th>Manufacturer</th>\n",
       "      <th>Male</th>\n",
       "      <th>Female</th>\n",
       "    </tr>\n",
       "  </thead>\n",
       "  <tbody>\n",
       "    <tr>\n",
       "      <th>0</th>\n",
       "      <td>Ford</td>\n",
       "      <td>814172</td>\n",
       "      <td>422731</td>\n",
       "    </tr>\n",
       "    <tr>\n",
       "      <th>1</th>\n",
       "      <td>Ford</td>\n",
       "      <td>554879</td>\n",
       "      <td>631666</td>\n",
       "    </tr>\n",
       "    <tr>\n",
       "      <th>2</th>\n",
       "      <td>Volkswagen</td>\n",
       "      <td>483216</td>\n",
       "      <td>310604</td>\n",
       "    </tr>\n",
       "    <tr>\n",
       "      <th>3</th>\n",
       "      <td>Renault</td>\n",
       "      <td>241287</td>\n",
       "      <td>312556</td>\n",
       "    </tr>\n",
       "    <tr>\n",
       "      <th>4</th>\n",
       "      <td>BMW</td>\n",
       "      <td>408016</td>\n",
       "      <td>115843</td>\n",
       "    </tr>\n",
       "  </tbody>\n",
       "</table>\n",
       "</div>"
      ],
      "text/plain": [
       "  Manufacturer    Male  Female\n",
       "0         Ford  814172  422731\n",
       "1         Ford  554879  631666\n",
       "2   Volkswagen  483216  310604\n",
       "3      Renault  241287  312556\n",
       "4          BMW  408016  115843"
      ]
     },
     "execution_count": 3,
     "metadata": {},
     "output_type": "execute_result"
    }
   ],
   "source": [
    "ndf = df[['Manufacturer','Male', 'Female']].copy()\n",
    "ndf.head()"
   ]
  },
  {
   "cell_type": "code",
   "execution_count": 19,
   "id": "71555837",
   "metadata": {},
   "outputs": [
    {
     "data": {
      "text/html": [
       "<div>\n",
       "<style scoped>\n",
       "    .dataframe tbody tr th:only-of-type {\n",
       "        vertical-align: middle;\n",
       "    }\n",
       "\n",
       "    .dataframe tbody tr th {\n",
       "        vertical-align: top;\n",
       "    }\n",
       "\n",
       "    .dataframe thead th {\n",
       "        text-align: right;\n",
       "    }\n",
       "</style>\n",
       "<table border=\"1\" class=\"dataframe\">\n",
       "  <thead>\n",
       "    <tr style=\"text-align: right;\">\n",
       "      <th></th>\n",
       "      <th>Manufacturer</th>\n",
       "      <th>Male</th>\n",
       "      <th>Female</th>\n",
       "    </tr>\n",
       "  </thead>\n",
       "  <tbody>\n",
       "    <tr>\n",
       "      <th>9</th>\n",
       "      <td>Honda</td>\n",
       "      <td>242188</td>\n",
       "      <td>132958</td>\n",
       "    </tr>\n",
       "    <tr>\n",
       "      <th>16</th>\n",
       "      <td>Honda</td>\n",
       "      <td>105551</td>\n",
       "      <td>136875</td>\n",
       "    </tr>\n",
       "    <tr>\n",
       "      <th>51</th>\n",
       "      <td>Honda</td>\n",
       "      <td>74,157</td>\n",
       "      <td>15,889</td>\n",
       "    </tr>\n",
       "    <tr>\n",
       "      <th>196</th>\n",
       "      <td>Honda</td>\n",
       "      <td>7,167</td>\n",
       "      <td>5,292</td>\n",
       "    </tr>\n",
       "    <tr>\n",
       "      <th>211</th>\n",
       "      <td>Honda</td>\n",
       "      <td>6,436</td>\n",
       "      <td>4,377</td>\n",
       "    </tr>\n",
       "  </tbody>\n",
       "</table>\n",
       "</div>"
      ],
      "text/plain": [
       "    Manufacturer    Male  Female\n",
       "9          Honda  242188  132958\n",
       "16         Honda  105551  136875\n",
       "51         Honda  74,157  15,889\n",
       "196        Honda   7,167   5,292\n",
       "211        Honda   6,436   4,377"
      ]
     },
     "execution_count": 19,
     "metadata": {},
     "output_type": "execute_result"
    }
   ],
   "source": [
    "boi1 = ['Honda']\n",
    "boi2 = ['Mercedes']\n",
    "#brands of interest, we will be looking into honda and mercedes\n",
    "jdf = ndf.loc[ndf['Manufacturer'].isin(boi1)]\n",
    "gdf = ndf.loc[ndf['Manufacturer'].isin(boi2)]\n",
    "jdf.head()"
   ]
  },
  {
   "cell_type": "code",
   "execution_count": 20,
   "id": "495af166",
   "metadata": {},
   "outputs": [
    {
     "data": {
      "text/html": [
       "<div>\n",
       "<style scoped>\n",
       "    .dataframe tbody tr th:only-of-type {\n",
       "        vertical-align: middle;\n",
       "    }\n",
       "\n",
       "    .dataframe tbody tr th {\n",
       "        vertical-align: top;\n",
       "    }\n",
       "\n",
       "    .dataframe thead th {\n",
       "        text-align: right;\n",
       "    }\n",
       "</style>\n",
       "<table border=\"1\" class=\"dataframe\">\n",
       "  <thead>\n",
       "    <tr style=\"text-align: right;\">\n",
       "      <th></th>\n",
       "      <th>Manufacturer</th>\n",
       "      <th>Male</th>\n",
       "      <th>Female</th>\n",
       "    </tr>\n",
       "  </thead>\n",
       "  <tbody>\n",
       "    <tr>\n",
       "      <th>13</th>\n",
       "      <td>Mercedes</td>\n",
       "      <td>209476</td>\n",
       "      <td>69,373</td>\n",
       "    </tr>\n",
       "    <tr>\n",
       "      <th>28</th>\n",
       "      <td>Mercedes</td>\n",
       "      <td>125070</td>\n",
       "      <td>24,029</td>\n",
       "    </tr>\n",
       "    <tr>\n",
       "      <th>36</th>\n",
       "      <td>Mercedes</td>\n",
       "      <td>55,510</td>\n",
       "      <td>68,928</td>\n",
       "    </tr>\n",
       "    <tr>\n",
       "      <th>79</th>\n",
       "      <td>Mercedes</td>\n",
       "      <td>38,415</td>\n",
       "      <td>16,438</td>\n",
       "    </tr>\n",
       "    <tr>\n",
       "      <th>86</th>\n",
       "      <td>Mercedes</td>\n",
       "      <td>24,741</td>\n",
       "      <td>25,424</td>\n",
       "    </tr>\n",
       "  </tbody>\n",
       "</table>\n",
       "</div>"
      ],
      "text/plain": [
       "   Manufacturer    Male  Female\n",
       "13     Mercedes  209476  69,373\n",
       "28     Mercedes  125070  24,029\n",
       "36     Mercedes  55,510  68,928\n",
       "79     Mercedes  38,415  16,438\n",
       "86     Mercedes  24,741  25,424"
      ]
     },
     "execution_count": 20,
     "metadata": {},
     "output_type": "execute_result"
    }
   ],
   "source": [
    "gdf.head()"
   ]
  },
  {
   "cell_type": "code",
   "execution_count": 23,
   "id": "8299fcb2",
   "metadata": {},
   "outputs": [],
   "source": [
    "import matplotlib.pyplot as plt\n"
   ]
  },
  {
   "cell_type": "code",
   "execution_count": null,
   "id": "521f2510",
   "metadata": {},
   "outputs": [],
   "source": []
  }
 ],
 "metadata": {
  "kernelspec": {
   "display_name": "Python 3",
   "language": "python",
   "name": "python3"
  },
  "language_info": {
   "codemirror_mode": {
    "name": "ipython",
    "version": 3
   },
   "file_extension": ".py",
   "mimetype": "text/x-python",
   "name": "python",
   "nbconvert_exporter": "python",
   "pygments_lexer": "ipython3",
   "version": "3.8.8"
  }
 },
 "nbformat": 4,
 "nbformat_minor": 5
}
